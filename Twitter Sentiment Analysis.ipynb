{
 "cells": [
  {
   "cell_type": "code",
   "execution_count": 32,
   "id": "9cfe202d",
   "metadata": {},
   "outputs": [],
   "source": [
    "import nltk\n",
    "import random\n",
    "from nltk.tokenize import sent_tokenize, word_tokenize\n",
    "from nltk.corpus import stopwords\n",
    "from nltk.classify import ClassifierI\n",
    "from statistics import mode\n",
    "from nltk.classify.scikitlearn import SklearnClassifier\n",
    "from sklearn.naive_bayes import MultinomialNB, GaussianNB, BernoulliNB\n",
    "from sklearn.preprocessing import LabelEncoder\n",
    "from sklearn.linear_model import LogisticRegression, SGDClassifier\n",
    "from sklearn.svm import SVC, LinearSVC,NuSVC"
   ]
  },
  {
   "cell_type": "code",
   "execution_count": 8,
   "id": "d99791f3",
   "metadata": {},
   "outputs": [],
   "source": [
    "class VoteClassifier(ClassifierI):\n",
    "    def __init__(self,*classifiers):\n",
    "        self._classifiers = classifiers\n",
    "        \n",
    "    def classify(self, features):\n",
    "        votes = []\n",
    "        for c in self._classifiers:\n",
    "            v= c.classify(features)\n",
    "            votes.append(v)\n",
    "        return mode(votes)\n",
    "    \n",
    "    def confidence(self, features):\n",
    "        votes = []\n",
    "        for c in self._classifiers:\n",
    "            v= c.classify(features)\n",
    "            votes.append(v)\n",
    "        choice_votes = votes.count(mode(votes)) \n",
    "        conf = choice_votes/len(votes)\n",
    "        return conf"
   ]
  },
  {
   "cell_type": "code",
   "execution_count": 14,
   "id": "70af4fb9",
   "metadata": {},
   "outputs": [],
   "source": [
    "pos = open('reviews/positive.txt','r').read()\n",
    "neg = open('reviews/negative.txt','r').read()"
   ]
  },
  {
   "cell_type": "code",
   "execution_count": 15,
   "id": "5d3a8fbe",
   "metadata": {},
   "outputs": [],
   "source": [
    "documents = []"
   ]
  },
  {
   "cell_type": "code",
   "execution_count": 16,
   "id": "f4907b29",
   "metadata": {},
   "outputs": [],
   "source": [
    "for r in pos.split('\\n'):\n",
    "    documents.append((r,\"pos\"))\n",
    "for r in neg.split('\\n'):\n",
    "    documents.append((r,\"neg\"))"
   ]
  },
  {
   "cell_type": "code",
   "execution_count": 18,
   "id": "5f41dc8e",
   "metadata": {},
   "outputs": [],
   "source": [
    "stop_words = set(stopwords.words('english'))\n",
    "all_words=[]\n",
    "pos_words = word_tokenize(pos)\n",
    "neg_words = word_tokenize(neg) \n",
    "\n",
    "for w in pos_words:\n",
    "    if w not in stop_words:\n",
    "        all_words.append(w.lower())\n",
    "for w in neg_words:\n",
    "    if w not in stop_words:\n",
    "        all_words.append(w.lower())\n",
    "    "
   ]
  },
  {
   "cell_type": "code",
   "execution_count": 20,
   "id": "895b35b5",
   "metadata": {},
   "outputs": [],
   "source": [
    "all_words = nltk.FreqDist(all_words)\n",
    "word_features = list(all_words.keys())[:5000]"
   ]
  },
  {
   "cell_type": "code",
   "execution_count": 21,
   "id": "59f47707",
   "metadata": {},
   "outputs": [],
   "source": [
    "def find_features(document):\n",
    "    words = set(document)\n",
    "    features = {}\n",
    "    for w in word_features:\n",
    "        features[w]  = (w in words)\n",
    "    return features"
   ]
  },
  {
   "cell_type": "code",
   "execution_count": 22,
   "id": "648d69c7",
   "metadata": {},
   "outputs": [
    {
     "data": {
      "text/plain": [
       "10662"
      ]
     },
     "execution_count": 22,
     "metadata": {},
     "output_type": "execute_result"
    }
   ],
   "source": [
    "featuresets = [(find_features(rev),category) for (rev,category) in documents]\n",
    "len(featuresets)"
   ]
  },
  {
   "cell_type": "code",
   "execution_count": 23,
   "id": "e97e64f8",
   "metadata": {},
   "outputs": [],
   "source": [
    "random.shuffle(featuresets)"
   ]
  },
  {
   "cell_type": "code",
   "execution_count": 25,
   "id": "bce22724",
   "metadata": {},
   "outputs": [],
   "source": [
    "training_set = featuresets[:9000]\n",
    "testing_set = featuresets[9000:]"
   ]
  },
  {
   "cell_type": "code",
   "execution_count": 26,
   "id": "9fd1e9c2",
   "metadata": {},
   "outputs": [],
   "source": [
    "## All Classifiers"
   ]
  },
  {
   "cell_type": "code",
   "execution_count": 28,
   "id": "2b523891",
   "metadata": {},
   "outputs": [
    {
     "name": "stdout",
     "output_type": "stream",
     "text": [
      "Accuracy 52.34657039711191\n",
      "Most Informative Features\n",
      "                       ? = True              neg : pos    =      2.7 : 1.0\n",
      "                       4 = True              neg : pos    =      2.2 : 1.0\n",
      "                       * = True              pos : neg    =      2.2 : 1.0\n",
      "                       ; = True              neg : pos    =      1.8 : 1.0\n",
      "                       & = True              pos : neg    =      1.7 : 1.0\n",
      "                       : = True              neg : pos    =      1.4 : 1.0\n",
      "                       r = False             neg : pos    =      1.3 : 1.0\n",
      "                       e = False             pos : neg    =      1.2 : 1.0\n",
      "                       ) = True              neg : pos    =      1.2 : 1.0\n",
      "                       h = False             pos : neg    =      1.2 : 1.0\n",
      "                       ( = True              neg : pos    =      1.2 : 1.0\n",
      "                       c = False             neg : pos    =      1.2 : 1.0\n",
      "                       3 = True              neg : pos    =      1.1 : 1.0\n",
      "                       2 = True              neg : pos    =      1.1 : 1.0\n",
      "                       . = False             neg : pos    =      1.1 : 1.0\n"
     ]
    }
   ],
   "source": [
    "##NB\n",
    "classifier = nltk.NaiveBayesClassifier.train(training_set)\n",
    "print(\"Accuracy\",(nltk.classify.accuracy(classifier,testing_set))*100)\n",
    "classifier.show_most_informative_features(15)"
   ]
  },
  {
   "cell_type": "code",
   "execution_count": 29,
   "id": "0ee17400",
   "metadata": {},
   "outputs": [
    {
     "name": "stdout",
     "output_type": "stream",
     "text": [
      "Accuracy 51.44404332129964\n"
     ]
    }
   ],
   "source": [
    "## Multinomial NB\n",
    "MNB_classifier = SklearnClassifier(MultinomialNB())\n",
    "MNB_classifier.train(training_set)\n",
    "print(\"Accuracy\",(nltk.classify.accuracy(MNB_classifier,testing_set))*100)"
   ]
  },
  {
   "cell_type": "code",
   "execution_count": 30,
   "id": "ddd30b4f",
   "metadata": {},
   "outputs": [
    {
     "name": "stdout",
     "output_type": "stream",
     "text": [
      "Accuracy 52.647412755716005\n"
     ]
    }
   ],
   "source": [
    "## BernoulliNB\n",
    "BNB_classifier = SklearnClassifier(BernoulliNB())\n",
    "BNB_classifier.train(training_set)\n",
    "print(\"Accuracy\",(nltk.classify.accuracy(BNB_classifier,testing_set))*100)"
   ]
  },
  {
   "cell_type": "code",
   "execution_count": 33,
   "id": "8cb38c90",
   "metadata": {},
   "outputs": [
    {
     "name": "stdout",
     "output_type": "stream",
     "text": [
      "Accuracy 51.624548736462096\n"
     ]
    }
   ],
   "source": [
    "## Logistice Regression\n",
    "LogisticRegression_classifier = SklearnClassifier(LogisticRegression())\n",
    "LogisticRegression_classifier.train(training_set)\n",
    "print(\"Accuracy\",(nltk.classify.accuracy(LogisticRegression_classifier,testing_set))*100)"
   ]
  },
  {
   "cell_type": "code",
   "execution_count": 34,
   "id": "b046ee0d",
   "metadata": {},
   "outputs": [
    {
     "name": "stdout",
     "output_type": "stream",
     "text": [
      "Accuracy 51.26353790613718\n"
     ]
    }
   ],
   "source": [
    "##SGD Classifier\n",
    "SGDClassifier_classifier = SklearnClassifier(SGDClassifier())\n",
    "SGDClassifier_classifier.train(training_set)\n",
    "print(\"Accuracy\",(nltk.classify.accuracy(SGDClassifier_classifier,testing_set))*100)"
   ]
  },
  {
   "cell_type": "code",
   "execution_count": 35,
   "id": "a623c672",
   "metadata": {},
   "outputs": [
    {
     "name": "stdout",
     "output_type": "stream",
     "text": [
      "Accuracy 52.76774969915764\n"
     ]
    }
   ],
   "source": [
    "## svc\n",
    "SVC_classifier = SklearnClassifier(SVC())\n",
    "SVC_classifier.train(training_set)\n",
    "print(\"Accuracy\",(nltk.classify.accuracy(SVC_classifier,testing_set))*100)"
   ]
  },
  {
   "cell_type": "code",
   "execution_count": 36,
   "id": "5addcc60",
   "metadata": {},
   "outputs": [
    {
     "name": "stdout",
     "output_type": "stream",
     "text": [
      "Accuracy 51.74488567990373\n"
     ]
    }
   ],
   "source": [
    "## Linear SVC\n",
    "LinearSVC_classifier = SklearnClassifier(LinearSVC())\n",
    "LinearSVC_classifier.train(training_set)\n",
    "print(\"Accuracy\",(nltk.classify.accuracy(LinearSVC_classifier,testing_set))*100)"
   ]
  },
  {
   "cell_type": "code",
   "execution_count": 37,
   "id": "95134aba",
   "metadata": {},
   "outputs": [
    {
     "name": "stdout",
     "output_type": "stream",
     "text": [
      "Accuracy 52.9482551143201\n"
     ]
    }
   ],
   "source": [
    "## NuSVC\n",
    "NuSVC_classifier = SklearnClassifier(NuSVC())\n",
    "NuSVC_classifier.train(training_set)\n",
    "print(\"Accuracy\",(nltk.classify.accuracy(NuSVC_classifier,testing_set))*100)"
   ]
  },
  {
   "cell_type": "code",
   "execution_count": 39,
   "id": "b741ea36",
   "metadata": {},
   "outputs": [
    {
     "name": "stdout",
     "output_type": "stream",
     "text": [
      "Accuracy 52.888086642599276\n"
     ]
    }
   ],
   "source": [
    "## Ensemble models\n",
    "\n",
    "voted_classifier = VoteClassifier(classifier,MNB_classifier, LogisticRegression_classifier, SGDClassifier_classifier,SVC_classifier, LinearSVC_classifier, NuSVC_classifier)\n",
    "print(\"Accuracy\",(nltk.classify.accuracy(voted_classifier,testing_set))*100)"
   ]
  },
  {
   "cell_type": "code",
   "execution_count": 40,
   "id": "22dd9954",
   "metadata": {},
   "outputs": [
    {
     "name": "stdout",
     "output_type": "stream",
     "text": [
      "Classification: pos Confidence: 0.8571428571428571\n"
     ]
    }
   ],
   "source": [
    "print(\"Classification:\",voted_classifier.classify(testing_set[0][0]), \"Confidence:\", voted_classifier.confidence(testing_set[0][0]))"
   ]
  },
  {
   "cell_type": "code",
   "execution_count": 41,
   "id": "7ab36c6f",
   "metadata": {},
   "outputs": [
    {
     "name": "stdout",
     "output_type": "stream",
     "text": [
      "Classification: neg Confidence: 0.7142857142857143\n"
     ]
    }
   ],
   "source": [
    "print(\"Classification:\",voted_classifier.classify(testing_set[2][0]), \"Confidence:\", voted_classifier.confidence(testing_set[2][0]))"
   ]
  },
  {
   "cell_type": "code",
   "execution_count": 42,
   "id": "2f2ff1c0",
   "metadata": {},
   "outputs": [
    {
     "name": "stdout",
     "output_type": "stream",
     "text": [
      "Classification: pos Confidence: 1.0\n"
     ]
    }
   ],
   "source": [
    "print(\"Classification:\",voted_classifier.classify(testing_set[5][0]), \"Confidence:\", voted_classifier.confidence(testing_set[5][0]))"
   ]
  }
 ],
 "metadata": {
  "kernelspec": {
   "display_name": "Python 3 (ipykernel)",
   "language": "python",
   "name": "python3"
  },
  "language_info": {
   "codemirror_mode": {
    "name": "ipython",
    "version": 3
   },
   "file_extension": ".py",
   "mimetype": "text/x-python",
   "name": "python",
   "nbconvert_exporter": "python",
   "pygments_lexer": "ipython3",
   "version": "3.9.6"
  }
 },
 "nbformat": 4,
 "nbformat_minor": 5
}
